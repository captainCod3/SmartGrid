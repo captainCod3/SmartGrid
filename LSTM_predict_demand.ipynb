{
 "cells": [
  {
   "cell_type": "code",
   "execution_count": 1,
   "metadata": {},
   "outputs": [
    {
     "name": "stderr",
     "output_type": "stream",
     "text": [
      "/home/gaddafi/anaconda3/lib/python3.6/site-packages/h5py/__init__.py:36: FutureWarning: Conversion of the second argument of issubdtype from `float` to `np.floating` is deprecated. In future, it will be treated as `np.float64 == np.dtype(float).type`.\n",
      "  from ._conv import register_converters as _register_converters\n",
      "Using TensorFlow backend.\n"
     ]
    }
   ],
   "source": [
    "import pandas as pd\n",
    "import numpy\n",
    "import matplotlib.pyplot as plt\n",
    "import pandas\n",
    "import math\n",
    "from keras.models import Sequential\n",
    "from keras.layers import Dense\n",
    "from keras.layers import LSTM\n",
    "from sklearn.preprocessing import MinMaxScaler\n",
    "from sklearn.metrics import mean_squared_error"
   ]
  },
  {
   "cell_type": "code",
   "execution_count": 2,
   "metadata": {},
   "outputs": [],
   "source": [
    "import os\n",
    "PATH = os.getcwd()\n",
    "numpy.random.seed(7)"
   ]
  },
  {
   "cell_type": "code",
   "execution_count": 3,
   "metadata": {},
   "outputs": [
    {
     "data": {
      "text/plain": [
       "'/home/gaddafi/SmartGrid'"
      ]
     },
     "execution_count": 3,
     "metadata": {},
     "output_type": "execute_result"
    }
   ],
   "source": [
    "PATH"
   ]
  },
  {
   "cell_type": "code",
   "execution_count": 4,
   "metadata": {},
   "outputs": [],
   "source": [
    "df = pd.read_excel(PATH+'/data/final_data.xlsx')"
   ]
  },
  {
   "cell_type": "code",
   "execution_count": 5,
   "metadata": {},
   "outputs": [
    {
     "data": {
      "text/html": [
       "<div>\n",
       "<style scoped>\n",
       "    .dataframe tbody tr th:only-of-type {\n",
       "        vertical-align: middle;\n",
       "    }\n",
       "\n",
       "    .dataframe tbody tr th {\n",
       "        vertical-align: top;\n",
       "    }\n",
       "\n",
       "    .dataframe thead th {\n",
       "        text-align: right;\n",
       "    }\n",
       "</style>\n",
       "<table border=\"1\" class=\"dataframe\">\n",
       "  <thead>\n",
       "    <tr style=\"text-align: right;\">\n",
       "      <th></th>\n",
       "      <th>Date</th>\n",
       "      <th>Hour</th>\n",
       "      <th>Market Demand</th>\n",
       "      <th>Ontario Demand</th>\n",
       "      <th>HOEP</th>\n",
       "      <th>BIOFUEL</th>\n",
       "      <th>GAS</th>\n",
       "      <th>HYDRO</th>\n",
       "      <th>NUCLEAR</th>\n",
       "      <th>SOLAR</th>\n",
       "      <th>WIND</th>\n",
       "      <th>TotalOutput</th>\n",
       "      <th>Company_HOEP</th>\n",
       "    </tr>\n",
       "  </thead>\n",
       "  <tbody>\n",
       "    <tr>\n",
       "      <th>0</th>\n",
       "      <td>2018-01-01</td>\n",
       "      <td>1</td>\n",
       "      <td>18974</td>\n",
       "      <td>16627</td>\n",
       "      <td>51.29</td>\n",
       "      <td>3</td>\n",
       "      <td>1583</td>\n",
       "      <td>4152</td>\n",
       "      <td>11671</td>\n",
       "      <td>0</td>\n",
       "      <td>992</td>\n",
       "      <td>18401</td>\n",
       "      <td>310</td>\n",
       "    </tr>\n",
       "    <tr>\n",
       "      <th>1</th>\n",
       "      <td>2018-01-01</td>\n",
       "      <td>2</td>\n",
       "      <td>18447</td>\n",
       "      <td>16084</td>\n",
       "      <td>43.59</td>\n",
       "      <td>1</td>\n",
       "      <td>1192</td>\n",
       "      <td>4093</td>\n",
       "      <td>11672</td>\n",
       "      <td>0</td>\n",
       "      <td>1124</td>\n",
       "      <td>18082</td>\n",
       "      <td>27</td>\n",
       "    </tr>\n",
       "    <tr>\n",
       "      <th>2</th>\n",
       "      <td>2018-01-01</td>\n",
       "      <td>3</td>\n",
       "      <td>18453</td>\n",
       "      <td>15866</td>\n",
       "      <td>93.60</td>\n",
       "      <td>0</td>\n",
       "      <td>1040</td>\n",
       "      <td>4231</td>\n",
       "      <td>11672</td>\n",
       "      <td>0</td>\n",
       "      <td>1265</td>\n",
       "      <td>18208</td>\n",
       "      <td>87</td>\n",
       "    </tr>\n",
       "    <tr>\n",
       "      <th>3</th>\n",
       "      <td>2018-01-01</td>\n",
       "      <td>4</td>\n",
       "      <td>18662</td>\n",
       "      <td>15725</td>\n",
       "      <td>54.78</td>\n",
       "      <td>0</td>\n",
       "      <td>1041</td>\n",
       "      <td>3895</td>\n",
       "      <td>11669</td>\n",
       "      <td>0</td>\n",
       "      <td>1369</td>\n",
       "      <td>17974</td>\n",
       "      <td>65</td>\n",
       "    </tr>\n",
       "    <tr>\n",
       "      <th>4</th>\n",
       "      <td>2018-01-01</td>\n",
       "      <td>5</td>\n",
       "      <td>18060</td>\n",
       "      <td>15470</td>\n",
       "      <td>14.35</td>\n",
       "      <td>0</td>\n",
       "      <td>1004</td>\n",
       "      <td>3271</td>\n",
       "      <td>11674</td>\n",
       "      <td>0</td>\n",
       "      <td>1848</td>\n",
       "      <td>17797</td>\n",
       "      <td>194</td>\n",
       "    </tr>\n",
       "  </tbody>\n",
       "</table>\n",
       "</div>"
      ],
      "text/plain": [
       "         Date  Hour  Market Demand  Ontario Demand   HOEP  BIOFUEL   GAS  \\\n",
       "0  2018-01-01     1          18974           16627  51.29        3  1583   \n",
       "1  2018-01-01     2          18447           16084  43.59        1  1192   \n",
       "2  2018-01-01     3          18453           15866  93.60        0  1040   \n",
       "3  2018-01-01     4          18662           15725  54.78        0  1041   \n",
       "4  2018-01-01     5          18060           15470  14.35        0  1004   \n",
       "\n",
       "   HYDRO  NUCLEAR  SOLAR  WIND  TotalOutput  Company_HOEP  \n",
       "0   4152    11671      0   992        18401           310  \n",
       "1   4093    11672      0  1124        18082            27  \n",
       "2   4231    11672      0  1265        18208            87  \n",
       "3   3895    11669      0  1369        17974            65  \n",
       "4   3271    11674      0  1848        17797           194  "
      ]
     },
     "execution_count": 5,
     "metadata": {},
     "output_type": "execute_result"
    }
   ],
   "source": [
    "df.head()"
   ]
  },
  {
   "cell_type": "code",
   "execution_count": 6,
   "metadata": {},
   "outputs": [],
   "source": [
    "data_X = df[['Ontario Demand', 'HOEP']]\n",
    "dataset = data_X.values\n",
    "dataset = dataset.astype('float32')"
   ]
  },
  {
   "cell_type": "code",
   "execution_count": 7,
   "metadata": {},
   "outputs": [
    {
     "data": {
      "text/html": [
       "<div>\n",
       "<style scoped>\n",
       "    .dataframe tbody tr th:only-of-type {\n",
       "        vertical-align: middle;\n",
       "    }\n",
       "\n",
       "    .dataframe tbody tr th {\n",
       "        vertical-align: top;\n",
       "    }\n",
       "\n",
       "    .dataframe thead th {\n",
       "        text-align: right;\n",
       "    }\n",
       "</style>\n",
       "<table border=\"1\" class=\"dataframe\">\n",
       "  <thead>\n",
       "    <tr style=\"text-align: right;\">\n",
       "      <th></th>\n",
       "      <th>Ontario Demand</th>\n",
       "      <th>HOEP</th>\n",
       "    </tr>\n",
       "  </thead>\n",
       "  <tbody>\n",
       "    <tr>\n",
       "      <th>0</th>\n",
       "      <td>16627</td>\n",
       "      <td>51.29</td>\n",
       "    </tr>\n",
       "    <tr>\n",
       "      <th>1</th>\n",
       "      <td>16084</td>\n",
       "      <td>43.59</td>\n",
       "    </tr>\n",
       "    <tr>\n",
       "      <th>2</th>\n",
       "      <td>15866</td>\n",
       "      <td>93.60</td>\n",
       "    </tr>\n",
       "    <tr>\n",
       "      <th>3</th>\n",
       "      <td>15725</td>\n",
       "      <td>54.78</td>\n",
       "    </tr>\n",
       "    <tr>\n",
       "      <th>4</th>\n",
       "      <td>15470</td>\n",
       "      <td>14.35</td>\n",
       "    </tr>\n",
       "  </tbody>\n",
       "</table>\n",
       "</div>"
      ],
      "text/plain": [
       "   Ontario Demand   HOEP\n",
       "0           16627  51.29\n",
       "1           16084  43.59\n",
       "2           15866  93.60\n",
       "3           15725  54.78\n",
       "4           15470  14.35"
      ]
     },
     "execution_count": 7,
     "metadata": {},
     "output_type": "execute_result"
    }
   ],
   "source": [
    "data_X.head()"
   ]
  },
  {
   "cell_type": "code",
   "execution_count": 8,
   "metadata": {},
   "outputs": [
    {
     "name": "stdout",
     "output_type": "stream",
     "text": [
      "(8760, 2)\n"
     ]
    }
   ],
   "source": [
    "# normalize the dataset\n",
    "scaler = MinMaxScaler()\n",
    "print(dataset.shape)\n",
    "dataset = scaler.fit_transform(dataset)"
   ]
  },
  {
   "cell_type": "code",
   "execution_count": 9,
   "metadata": {},
   "outputs": [
    {
     "name": "stdout",
     "output_type": "stream",
     "text": [
      "5869 2891\n"
     ]
    }
   ],
   "source": [
    "# split into train and test sets\n",
    "train_size = int(len(dataset) * 0.67)\n",
    "test_size = len(dataset) - train_size\n",
    "train, test = dataset[0:train_size,:], dataset[train_size:len(dataset),:]\n",
    "print(len(train), len(test))"
   ]
  },
  {
   "cell_type": "code",
   "execution_count": 10,
   "metadata": {},
   "outputs": [
    {
     "data": {
      "text/plain": [
       "(2891, 1)"
      ]
     },
     "execution_count": 10,
     "metadata": {},
     "output_type": "execute_result"
    }
   ],
   "source": [
    "test_hoep = test[:,1]\n",
    "test_hoep = test_hoep.reshape(test_hoep.shape[0],1)\n",
    "test_hoep.shape"
   ]
  },
  {
   "cell_type": "code",
   "execution_count": 13,
   "metadata": {},
   "outputs": [],
   "source": [
    "dataset_hoep = dataset[:,1]\n",
    "dataset_hoep = dataset_hoep.reshape(dataset_hoep.shape[0],1)"
   ]
  },
  {
   "cell_type": "code",
   "execution_count": 16,
   "metadata": {},
   "outputs": [
    {
     "data": {
      "text/plain": [
       "(8760, 1)"
      ]
     },
     "execution_count": 16,
     "metadata": {},
     "output_type": "execute_result"
    }
   ],
   "source": [
    "dataset_hoep.shape"
   ]
  },
  {
   "cell_type": "code",
   "execution_count": 17,
   "metadata": {},
   "outputs": [],
   "source": [
    "# convert an array of values into a dataset matrix\n",
    "def create_dataset(dataset, look_back=48):\n",
    "    dataX, dataY = [], []\n",
    "    for i in range(len(dataset)-look_back-1):\n",
    "        a = dataset[i:(i+look_back), :]\n",
    "        dataX.append(a)\n",
    "        dataY.append(dataset[i + look_back, 0])\n",
    "    return numpy.array(dataX), numpy.array(dataY)"
   ]
  },
  {
   "cell_type": "code",
   "execution_count": 18,
   "metadata": {},
   "outputs": [],
   "source": [
    "# reshape into X=t and Y=t+48\n",
    "look_back = 48\n",
    "trainX, trainY = create_dataset(train, look_back)\n",
    "testX, testY = create_dataset(test, look_back)"
   ]
  },
  {
   "cell_type": "code",
   "execution_count": 19,
   "metadata": {},
   "outputs": [
    {
     "data": {
      "text/plain": [
       "array([[[0.4792503 , 0.15047428],\n",
       "        [0.436491  , 0.12966517],\n",
       "        [0.4193244 , 0.26481634],\n",
       "        ...,\n",
       "        [0.6516261 , 0.12439531],\n",
       "        [0.57098985, 0.0335108 ],\n",
       "        [0.5024017 , 0.0921817 ]],\n",
       "\n",
       "       [[0.436491  , 0.12966517],\n",
       "        [0.4193244 , 0.26481634],\n",
       "        [0.40822113, 0.15990594],\n",
       "        ...,\n",
       "        [0.57098985, 0.0335108 ],\n",
       "        [0.5024017 , 0.0921817 ],\n",
       "        [0.45168912, 0.01810664]],\n",
       "\n",
       "       [[0.4193244 , 0.26481634],\n",
       "        [0.40822113, 0.15990594],\n",
       "        [0.3881408 , 0.05064454],\n",
       "        ...,\n",
       "        [0.5024017 , 0.0921817 ],\n",
       "        [0.45168912, 0.01810664],\n",
       "        [0.41688323, 0.06437316]],\n",
       "\n",
       "       ...,\n",
       "\n",
       "       [[0.57098985, 0.0335108 ],\n",
       "        [0.5024017 , 0.0921817 ],\n",
       "        [0.45168912, 0.01810664],\n",
       "        ...,\n",
       "        [0.74328685, 0.17106721],\n",
       "        [0.7335223 , 0.17082398],\n",
       "        [0.7195054 , 0.1766073 ]],\n",
       "\n",
       "       [[0.5024017 , 0.0921817 ],\n",
       "        [0.45168912, 0.01810664],\n",
       "        [0.41688323, 0.06437316],\n",
       "        ...,\n",
       "        [0.7335223 , 0.17082398],\n",
       "        [0.7195054 , 0.1766073 ],\n",
       "        [0.6573746 , 0.21106395]],\n",
       "\n",
       "       [[0.45168912, 0.01810664],\n",
       "        [0.41688323, 0.06437316],\n",
       "        [0.39885032, 0.0118639 ],\n",
       "        ...,\n",
       "        [0.7195054 , 0.1766073 ],\n",
       "        [0.6573746 , 0.21106395],\n",
       "        [0.58264434, 0.2989487 ]]], dtype=float32)"
      ]
     },
     "execution_count": 19,
     "metadata": {},
     "output_type": "execute_result"
    }
   ],
   "source": [
    "trainX[0:49]"
   ]
  },
  {
   "cell_type": "code",
   "execution_count": 20,
   "metadata": {},
   "outputs": [
    {
     "data": {
      "text/plain": [
       "(5820,)"
      ]
     },
     "execution_count": 20,
     "metadata": {},
     "output_type": "execute_result"
    }
   ],
   "source": [
    "trainY.shape"
   ]
  },
  {
   "cell_type": "code",
   "execution_count": 21,
   "metadata": {},
   "outputs": [
    {
     "data": {
      "text/plain": [
       "(5820, 48, 2)"
      ]
     },
     "execution_count": 21,
     "metadata": {},
     "output_type": "execute_result"
    }
   ],
   "source": [
    "trainX.shape"
   ]
  },
  {
   "cell_type": "code",
   "execution_count": 22,
   "metadata": {
    "scrolled": true
   },
   "outputs": [
    {
     "name": "stdout",
     "output_type": "stream",
     "text": [
      "_________________________________________________________________\n",
      "Layer (type)                 Output Shape              Param #   \n",
      "=================================================================\n",
      "lstm_1 (LSTM)                (None, 48, 30)            3960      \n",
      "_________________________________________________________________\n",
      "lstm_2 (LSTM)                (None, 30)                7320      \n",
      "_________________________________________________________________\n",
      "dense_1 (Dense)              (None, 1)                 31        \n",
      "=================================================================\n",
      "Total params: 11,311\n",
      "Trainable params: 11,311\n",
      "Non-trainable params: 0\n",
      "_________________________________________________________________\n",
      "Epoch 1/20\n",
      " - 9s - loss: 0.0267\n",
      "Epoch 2/20\n",
      " - 6s - loss: 0.0070\n",
      "Epoch 3/20\n",
      " - 6s - loss: 0.0041\n",
      "Epoch 4/20\n",
      " - 6s - loss: 0.0031\n",
      "Epoch 5/20\n",
      " - 6s - loss: 0.0025\n",
      "Epoch 6/20\n",
      " - 6s - loss: 0.0018\n",
      "Epoch 7/20\n",
      " - 6s - loss: 0.0014\n",
      "Epoch 8/20\n",
      " - 6s - loss: 0.0011\n",
      "Epoch 9/20\n",
      " - 6s - loss: 9.8680e-04\n",
      "Epoch 10/20\n",
      " - 6s - loss: 8.6580e-04\n",
      "Epoch 11/20\n",
      " - 6s - loss: 7.4569e-04\n",
      "Epoch 12/20\n",
      " - 12s - loss: 6.3942e-04\n",
      "Epoch 13/20\n",
      " - 12s - loss: 6.4266e-04\n",
      "Epoch 14/20\n",
      " - 10s - loss: 5.6935e-04\n",
      "Epoch 15/20\n",
      " - 7s - loss: 5.4978e-04\n",
      "Epoch 16/20\n",
      " - 7s - loss: 5.1452e-04\n",
      "Epoch 17/20\n",
      " - 8s - loss: 5.3231e-04\n",
      "Epoch 18/20\n",
      " - 7s - loss: 4.7162e-04\n",
      "Epoch 19/20\n",
      " - 7s - loss: 4.8781e-04\n",
      "Epoch 20/20\n",
      " - 15s - loss: 5.0642e-04\n"
     ]
    },
    {
     "data": {
      "text/plain": [
       "<keras.callbacks.History at 0x7f18fc6314e0>"
      ]
     },
     "execution_count": 22,
     "metadata": {},
     "output_type": "execute_result"
    }
   ],
   "source": [
    "# create and fit the LSTM network\n",
    "model = Sequential()\n",
    "model.add(LSTM(30, return_sequences=True, input_shape=(look_back, 2)))\n",
    "model.add(LSTM(30))\n",
    "model.add(Dense(1))\n",
    "model.summary()\n",
    "model.compile(loss='mean_squared_error', optimizer='adam')\n",
    "model.fit(trainX, trainY, epochs=20, batch_size=32, verbose=2)"
   ]
  },
  {
   "cell_type": "code",
   "execution_count": 23,
   "metadata": {},
   "outputs": [],
   "source": [
    "predicted_value= model.predict(testX)"
   ]
  },
  {
   "cell_type": "code",
   "execution_count": 24,
   "metadata": {},
   "outputs": [
    {
     "data": {
      "text/plain": [
       "0.0007477926"
      ]
     },
     "execution_count": 24,
     "metadata": {},
     "output_type": "execute_result"
    }
   ],
   "source": [
    "from sklearn.metrics import mean_squared_error\n",
    "mean_squared_error(testY,predicted_value)"
   ]
  },
  {
   "cell_type": "code",
   "execution_count": 25,
   "metadata": {},
   "outputs": [
    {
     "data": {
      "text/plain": [
       "(2842, 1)"
      ]
     },
     "execution_count": 25,
     "metadata": {},
     "output_type": "execute_result"
    }
   ],
   "source": [
    "predicted_value.shape"
   ]
  },
  {
   "cell_type": "code",
   "execution_count": 26,
   "metadata": {},
   "outputs": [
    {
     "data": {
      "text/plain": [
       "(2842,)"
      ]
     },
     "execution_count": 26,
     "metadata": {},
     "output_type": "execute_result"
    }
   ],
   "source": [
    "testY.shape"
   ]
  },
  {
   "cell_type": "code",
   "execution_count": 27,
   "metadata": {},
   "outputs": [],
   "source": [
    "import pickle\n",
    "filename = 'finalized_model_2.sav'\n",
    "pickle.dump(model, open(filename, 'wb'))"
   ]
  },
  {
   "cell_type": "code",
   "execution_count": 28,
   "metadata": {},
   "outputs": [
    {
     "data": {
      "image/png": "[encoded data removed]",
      "text/plain": [
       "<Figure size 432x288 with 1 Axes>"
      ]
     },
     "metadata": {},
     "output_type": "display_data"
    }
   ],
   "source": [
    "plt.plot(predicted_value, color= 'red')\n",
    "plt.plot(testY, color='green',alpha=0.7)\n",
    "plt.title(\"Price\")\n",
    "plt.xlabel(\"Time (latest-> oldest)\")\n",
    "plt.ylabel(\"Electricity Price\")\n",
    "plt.show()"
   ]
  },
  {
   "cell_type": "code",
   "execution_count": 29,
   "metadata": {},
   "outputs": [],
   "source": [
    "predicted_value = numpy.c_[predicted_value,test_hoep[look_back+1:,:]]"
   ]
  },
  {
   "cell_type": "code",
   "execution_count": 31,
   "metadata": {},
   "outputs": [
    {
     "name": "stdout",
     "output_type": "stream",
     "text": [
      "(2842, 2)\n",
      "(2842, 48, 2)\n"
     ]
    }
   ],
   "source": [
    "print(predicted_value.shape)\n",
    "print(testX.shape)"
   ]
  },
  {
   "cell_type": "code",
   "execution_count": 32,
   "metadata": {},
   "outputs": [],
   "source": [
    "inverse_scaled_output = scaler.inverse_transform(predicted_value)\n",
    "#inverse_scaled_actual = scaler.inverse_transform(testX)"
   ]
  },
  {
   "cell_type": "code",
   "execution_count": 33,
   "metadata": {},
   "outputs": [
    {
     "data": {
      "text/plain": [
       "(2842, 2)"
      ]
     },
     "execution_count": 33,
     "metadata": {},
     "output_type": "execute_result"
    }
   ],
   "source": [
    "testX[:,1].shape"
   ]
  },
  {
   "cell_type": "code",
   "execution_count": 34,
   "metadata": {},
   "outputs": [
    {
     "data": {
      "text/plain": [
       "(2842, 2)"
      ]
     },
     "execution_count": 34,
     "metadata": {},
     "output_type": "execute_result"
    }
   ],
   "source": [
    "predicted_value.shape"
   ]
  },
  {
   "cell_type": "code",
   "execution_count": 35,
   "metadata": {},
   "outputs": [
    {
     "data": {
      "text/plain": [
       "array([[20911.465  ,   136.95   ],\n",
       "       [21134.758  ,   100.30999],\n",
       "       [21719.705  ,    70.95   ],\n",
       "       ...,\n",
       "       [16362.194  ,     5.81   ],\n",
       "       [15367.474  ,     2.87   ],\n",
       "       [14454.355  ,     0.     ]], dtype=float32)"
      ]
     },
     "execution_count": 35,
     "metadata": {},
     "output_type": "execute_result"
    }
   ],
   "source": [
    "numpy.set_printoptions(suppress=True)\n",
    "inverse_scaled_output"
   ]
  },
  {
   "cell_type": "code",
   "execution_count": 36,
   "metadata": {},
   "outputs": [],
   "source": [
    "predictX, predictY = create_dataset(dataset, look_back)\n",
    "predicted_dataset_value = model.predict(predictX)"
   ]
  },
  {
   "cell_type": "code",
   "execution_count": 37,
   "metadata": {},
   "outputs": [],
   "source": [
    "predicted_dataset_value = numpy.c_[predicted_dataset_value,dataset_hoep[look_back+1:,:]]"
   ]
  },
  {
   "cell_type": "code",
   "execution_count": 38,
   "metadata": {},
   "outputs": [
    {
     "name": "stdout",
     "output_type": "stream",
     "text": [
      "(8711, 2)\n",
      "(8711, 48, 2)\n"
     ]
    }
   ],
   "source": [
    "print(predicted_dataset_value.shape)\n",
    "print(predictX.shape)"
   ]
  },
  {
   "cell_type": "code",
   "execution_count": 39,
   "metadata": {},
   "outputs": [],
   "source": [
    "inverse_scaled_dataset_output = scaler.inverse_transform(predicted_dataset_value)\n",
    "#inverse_scaled_actual = scaler.inverse_transform(testX)"
   ]
  },
  {
   "cell_type": "code",
   "execution_count": 40,
   "metadata": {},
   "outputs": [
    {
     "data": {
      "text/plain": [
       "array([[16476.73 ,    19.43 ],\n",
       "       [16012.159,     0.   ],\n",
       "       [15823.391,     0.   ],\n",
       "       ...,\n",
       "       [16362.194,     5.81 ],\n",
       "       [15367.474,     2.87 ],\n",
       "       [14454.355,     0.   ]], dtype=float32)"
      ]
     },
     "execution_count": 40,
     "metadata": {},
     "output_type": "execute_result"
    }
   ],
   "source": [
    "numpy.set_printoptions(suppress=True)\n",
    "inverse_scaled_dataset_output"
   ]
  },
  {
   "cell_type": "code",
   "execution_count": 41,
   "metadata": {},
   "outputs": [],
   "source": [
    "numpy.savetxt(\"full_values.csv\", inverse_scaled_output, delimiter=\",\")"
   ]
  },
  {
   "cell_type": "code",
   "execution_count": 132,
   "metadata": {},
   "outputs": [],
   "source": [
    "# import numpy as np\n",
    "# x = np.array([[10,20,30], [40,50,60]])\n",
    "# y = np.array([[100], [200]])\n",
    "# print(np.append(x, y, axis=1))\n",
    "# inverse_scaled_actual = scaler.inverse_transform(dataset[look_back:len(dataset)-1,:])\n",
    "# inverse_scaled_actual[look_back:len(dataset)-1,0]\n",
    "\n",
    "df2 = pd.read_excel(PATH+'/data/final_data.xlsx')\n",
    "data_X2 = df2[['Ontario Demand', 'HOEP', 'TotalOutput','Hour']]\n",
    "dataset2 = data_X2.values\n",
    "dataset2 = dataset2.astype('float32')\n",
    "actual_demand2 = dataset2[look_back:len(dataset2)-1,0]"
   ]
  },
  {
   "cell_type": "code",
   "execution_count": 133,
   "metadata": {},
   "outputs": [],
   "source": [
    "actual_demand2 = actual_demand2.reshape(len(dataset2)-48-1,1)"
   ]
  },
  {
   "cell_type": "code",
   "execution_count": 134,
   "metadata": {},
   "outputs": [
    {
     "data": {
      "text/plain": [
       "array([[16277.],\n",
       "       [15835.],\n",
       "       [15606.],\n",
       "       ...,\n",
       "       [15668.],\n",
       "       [14987.],\n",
       "       [14560.]], dtype=float32)"
      ]
     },
     "execution_count": 134,
     "metadata": {},
     "output_type": "execute_result"
    }
   ],
   "source": [
    "actual_demand2"
   ]
  },
  {
   "cell_type": "code",
   "execution_count": 135,
   "metadata": {},
   "outputs": [],
   "source": [
    "new_data = numpy.append(inverse_scaled_dataset_output[:,0].reshape(len(dataset2)-48-1,1), actual_demand2,axis=1)"
   ]
  },
  {
   "cell_type": "code",
   "execution_count": 136,
   "metadata": {},
   "outputs": [],
   "source": [
    "# inverse_scaled_actual = scaler.inverse_transform(dataset[look_back:len(dataset)-1,:])\n",
    "# inverse_scaled_actual[look_back:len(dataset)-1,0]\n"
   ]
  },
  {
   "cell_type": "code",
   "execution_count": 137,
   "metadata": {},
   "outputs": [],
   "source": [
    "totalOP = dataset2[look_back:len(dataset2)-1,2]\n",
    "totalOP = totalOP.reshape(len(dataset2)-48-1,1)"
   ]
  },
  {
   "cell_type": "code",
   "execution_count": 138,
   "metadata": {},
   "outputs": [],
   "source": [
    "new_data = numpy.append(new_data, totalOP,axis=1)"
   ]
  },
  {
   "cell_type": "code",
   "execution_count": 139,
   "metadata": {},
   "outputs": [],
   "source": [
    "date = df2[['Date']].values[look_back:len(dataset2)-1,0]\n",
    "date = date.reshape(len(dataset2)-48-1,1)"
   ]
  },
  {
   "cell_type": "code",
   "execution_count": 140,
   "metadata": {},
   "outputs": [],
   "source": [
    "hour = dataset2[look_back:len(dataset2)-1,3]\n",
    "hour = hour.reshape(len(dataset2)-48-1,1)"
   ]
  },
  {
   "cell_type": "code",
   "execution_count": 143,
   "metadata": {},
   "outputs": [],
   "source": [
    "new_data = numpy.append(hour,new_data,axis=1)"
   ]
  },
  {
   "cell_type": "code",
   "execution_count": 144,
   "metadata": {},
   "outputs": [],
   "source": [
    "new_data = numpy.append(date,new_data,axis=1)"
   ]
  },
  {
   "cell_type": "code",
   "execution_count": 145,
   "metadata": {},
   "outputs": [],
   "source": [
    "tariff = dataset2[look_back:len(dataset2)-1,1]\n",
    "tariff = tariff.reshape(len(dataset2)-48-1,1)"
   ]
  },
  {
   "cell_type": "code",
   "execution_count": 146,
   "metadata": {},
   "outputs": [],
   "source": [
    "new_data = numpy.append(new_data, tariff, axis=1)"
   ]
  },
  {
   "cell_type": "code",
   "execution_count": 147,
   "metadata": {},
   "outputs": [],
   "source": [
    "df_new = pd.DataFrame(new_data, columns = ['Date','Hour', 'Predicted Demand', 'Actual Demand', 'Company Demand', 'Tariff'])"
   ]
  },
  {
   "cell_type": "code",
   "execution_count": 148,
   "metadata": {},
   "outputs": [
    {
     "data": {
      "text/html": [
       "<div>\n",
       "<style scoped>\n",
       "    .dataframe tbody tr th:only-of-type {\n",
       "        vertical-align: middle;\n",
       "    }\n",
       "\n",
       "    .dataframe tbody tr th {\n",
       "        vertical-align: top;\n",
       "    }\n",
       "\n",
       "    .dataframe thead th {\n",
       "        text-align: right;\n",
       "    }\n",
       "</style>\n",
       "<table border=\"1\" class=\"dataframe\">\n",
       "  <thead>\n",
       "    <tr style=\"text-align: right;\">\n",
       "      <th></th>\n",
       "      <th>Date</th>\n",
       "      <th>Hour</th>\n",
       "      <th>Predicted Demand</th>\n",
       "      <th>Actual Demand</th>\n",
       "      <th>Company Demand</th>\n",
       "      <th>Tariff</th>\n",
       "    </tr>\n",
       "  </thead>\n",
       "  <tbody>\n",
       "    <tr>\n",
       "      <th>8706</th>\n",
       "      <td>2018-12-31</td>\n",
       "      <td>19</td>\n",
       "      <td>17745.7</td>\n",
       "      <td>16583</td>\n",
       "      <td>18263</td>\n",
       "      <td>1.31</td>\n",
       "    </tr>\n",
       "    <tr>\n",
       "      <th>8707</th>\n",
       "      <td>2018-12-31</td>\n",
       "      <td>20</td>\n",
       "      <td>16664.5</td>\n",
       "      <td>16195</td>\n",
       "      <td>17853</td>\n",
       "      <td>5.62</td>\n",
       "    </tr>\n",
       "    <tr>\n",
       "      <th>8708</th>\n",
       "      <td>2018-12-31</td>\n",
       "      <td>21</td>\n",
       "      <td>16362.2</td>\n",
       "      <td>15668</td>\n",
       "      <td>17736</td>\n",
       "      <td>8.95</td>\n",
       "    </tr>\n",
       "    <tr>\n",
       "      <th>8709</th>\n",
       "      <td>2018-12-31</td>\n",
       "      <td>22</td>\n",
       "      <td>15367.5</td>\n",
       "      <td>14987</td>\n",
       "      <td>17227</td>\n",
       "      <td>5.81</td>\n",
       "    </tr>\n",
       "    <tr>\n",
       "      <th>8710</th>\n",
       "      <td>2018-12-31</td>\n",
       "      <td>23</td>\n",
       "      <td>14454.4</td>\n",
       "      <td>14560</td>\n",
       "      <td>17232</td>\n",
       "      <td>2.87</td>\n",
       "    </tr>\n",
       "  </tbody>\n",
       "</table>\n",
       "</div>"
      ],
      "text/plain": [
       "            Date Hour Predicted Demand Actual Demand Company Demand Tariff\n",
       "8706  2018-12-31   19          17745.7         16583          18263   1.31\n",
       "8707  2018-12-31   20          16664.5         16195          17853   5.62\n",
       "8708  2018-12-31   21          16362.2         15668          17736   8.95\n",
       "8709  2018-12-31   22          15367.5         14987          17227   5.81\n",
       "8710  2018-12-31   23          14454.4         14560          17232   2.87"
      ]
     },
     "execution_count": 148,
     "metadata": {},
     "output_type": "execute_result"
    }
   ],
   "source": [
    "df_new.tail()"
   ]
  },
  {
   "cell_type": "code",
   "execution_count": 149,
   "metadata": {},
   "outputs": [],
   "source": [
    "df_new.to_excel(PATH+'/data/RL_data.xlsx')"
   ]
  },
  {
   "cell_type": "code",
   "execution_count": null,
   "metadata": {},
   "outputs": [],
   "source": []
  }
 ],
 "metadata": {
  "kernelspec": {
   "display_name": "Python 3",
   "language": "python",
   "name": "python3"
  },
  "language_info": {
   "codemirror_mode": {
    "name": "ipython",
    "version": 3
   },
   "file_extension": ".py",
   "mimetype": "text/x-python",
   "name": "python",
   "nbconvert_exporter": "python",
   "pygments_lexer": "ipython3",
   "version": "3.6.5"
  }
 },
 "nbformat": 4,
 "nbformat_minor": 2
}
