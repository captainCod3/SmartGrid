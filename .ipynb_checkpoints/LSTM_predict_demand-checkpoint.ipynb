{
 "cells": [
  {
   "cell_type": "code",
   "execution_count": 1,
   "metadata": {},
   "outputs": [
    {
     "name": "stderr",
     "output_type": "stream",
     "text": [
      "Using TensorFlow backend.\n",
      "/home/sashank/.local/lib/python3.6/site-packages/tensorflow/python/framework/dtypes.py:516: FutureWarning: Passing (type, 1) or '1type' as a synonym of type is deprecated; in a future version of numpy, it will be understood as (type, (1,)) / '(1,)type'.\n",
      "  _np_qint8 = np.dtype([(\"qint8\", np.int8, 1)])\n",
      "/home/sashank/.local/lib/python3.6/site-packages/tensorflow/python/framework/dtypes.py:517: FutureWarning: Passing (type, 1) or '1type' as a synonym of type is deprecated; in a future version of numpy, it will be understood as (type, (1,)) / '(1,)type'.\n",
      "  _np_quint8 = np.dtype([(\"quint8\", np.uint8, 1)])\n",
      "/home/sashank/.local/lib/python3.6/site-packages/tensorflow/python/framework/dtypes.py:518: FutureWarning: Passing (type, 1) or '1type' as a synonym of type is deprecated; in a future version of numpy, it will be understood as (type, (1,)) / '(1,)type'.\n",
      "  _np_qint16 = np.dtype([(\"qint16\", np.int16, 1)])\n",
      "/home/sashank/.local/lib/python3.6/site-packages/tensorflow/python/framework/dtypes.py:519: FutureWarning: Passing (type, 1) or '1type' as a synonym of type is deprecated; in a future version of numpy, it will be understood as (type, (1,)) / '(1,)type'.\n",
      "  _np_quint16 = np.dtype([(\"quint16\", np.uint16, 1)])\n",
      "/home/sashank/.local/lib/python3.6/site-packages/tensorflow/python/framework/dtypes.py:520: FutureWarning: Passing (type, 1) or '1type' as a synonym of type is deprecated; in a future version of numpy, it will be understood as (type, (1,)) / '(1,)type'.\n",
      "  _np_qint32 = np.dtype([(\"qint32\", np.int32, 1)])\n",
      "/home/sashank/.local/lib/python3.6/site-packages/tensorflow/python/framework/dtypes.py:525: FutureWarning: Passing (type, 1) or '1type' as a synonym of type is deprecated; in a future version of numpy, it will be understood as (type, (1,)) / '(1,)type'.\n",
      "  np_resource = np.dtype([(\"resource\", np.ubyte, 1)])\n",
      "/home/sashank/.local/lib/python3.6/site-packages/tensorboard/compat/tensorflow_stub/dtypes.py:541: FutureWarning: Passing (type, 1) or '1type' as a synonym of type is deprecated; in a future version of numpy, it will be understood as (type, (1,)) / '(1,)type'.\n",
      "  _np_qint8 = np.dtype([(\"qint8\", np.int8, 1)])\n",
      "/home/sashank/.local/lib/python3.6/site-packages/tensorboard/compat/tensorflow_stub/dtypes.py:542: FutureWarning: Passing (type, 1) or '1type' as a synonym of type is deprecated; in a future version of numpy, it will be understood as (type, (1,)) / '(1,)type'.\n",
      "  _np_quint8 = np.dtype([(\"quint8\", np.uint8, 1)])\n",
      "/home/sashank/.local/lib/python3.6/site-packages/tensorboard/compat/tensorflow_stub/dtypes.py:543: FutureWarning: Passing (type, 1) or '1type' as a synonym of type is deprecated; in a future version of numpy, it will be understood as (type, (1,)) / '(1,)type'.\n",
      "  _np_qint16 = np.dtype([(\"qint16\", np.int16, 1)])\n",
      "/home/sashank/.local/lib/python3.6/site-packages/tensorboard/compat/tensorflow_stub/dtypes.py:544: FutureWarning: Passing (type, 1) or '1type' as a synonym of type is deprecated; in a future version of numpy, it will be understood as (type, (1,)) / '(1,)type'.\n",
      "  _np_quint16 = np.dtype([(\"quint16\", np.uint16, 1)])\n",
      "/home/sashank/.local/lib/python3.6/site-packages/tensorboard/compat/tensorflow_stub/dtypes.py:545: FutureWarning: Passing (type, 1) or '1type' as a synonym of type is deprecated; in a future version of numpy, it will be understood as (type, (1,)) / '(1,)type'.\n",
      "  _np_qint32 = np.dtype([(\"qint32\", np.int32, 1)])\n",
      "/home/sashank/.local/lib/python3.6/site-packages/tensorboard/compat/tensorflow_stub/dtypes.py:550: FutureWarning: Passing (type, 1) or '1type' as a synonym of type is deprecated; in a future version of numpy, it will be understood as (type, (1,)) / '(1,)type'.\n",
      "  np_resource = np.dtype([(\"resource\", np.ubyte, 1)])\n"
     ]
    }
   ],
   "source": [
    "import pandas as pd\n",
    "import numpy\n",
    "import matplotlib.pyplot as plt\n",
    "import pandas\n",
    "import math\n",
    "from keras.models import Sequential\n",
    "from keras.layers import Dense\n",
    "from keras.layers import LSTM\n",
    "from sklearn.preprocessing import MinMaxScaler\n",
    "from sklearn.metrics import mean_squared_error"
   ]
  },
  {
   "cell_type": "code",
   "execution_count": 2,
   "metadata": {},
   "outputs": [],
   "source": [
    "import os\n",
    "PATH = os.getcwd()\n",
    "numpy.random.seed(7)"
   ]
  },
  {
   "cell_type": "code",
   "execution_count": 3,
   "metadata": {},
   "outputs": [
    {
     "data": {
      "text/plain": [
       "'/home/sashank/Documents/SmartGrid'"
      ]
     },
     "execution_count": 3,
     "metadata": {},
     "output_type": "execute_result"
    }
   ],
   "source": [
    "PATH"
   ]
  },
  {
   "cell_type": "code",
   "execution_count": 75,
   "metadata": {},
   "outputs": [],
   "source": [
    "df = pd.read_excel(PATH+'/data/final_data.xlsx')"
   ]
  },
  {
   "cell_type": "code",
   "execution_count": 76,
   "metadata": {},
   "outputs": [
    {
     "data": {
      "text/html": [
       "<div>\n",
       "<style scoped>\n",
       "    .dataframe tbody tr th:only-of-type {\n",
       "        vertical-align: middle;\n",
       "    }\n",
       "\n",
       "    .dataframe tbody tr th {\n",
       "        vertical-align: top;\n",
       "    }\n",
       "\n",
       "    .dataframe thead th {\n",
       "        text-align: right;\n",
       "    }\n",
       "</style>\n",
       "<table border=\"1\" class=\"dataframe\">\n",
       "  <thead>\n",
       "    <tr style=\"text-align: right;\">\n",
       "      <th></th>\n",
       "      <th>Unnamed: 0</th>\n",
       "      <th>Date</th>\n",
       "      <th>Hour</th>\n",
       "      <th>Market Demand</th>\n",
       "      <th>Ontario Demand</th>\n",
       "      <th>HOEP</th>\n",
       "      <th>BIOFUEL</th>\n",
       "      <th>GAS</th>\n",
       "      <th>HYDRO</th>\n",
       "      <th>NUCLEAR</th>\n",
       "      <th>SOLAR</th>\n",
       "      <th>WIND</th>\n",
       "      <th>TotalOutput</th>\n",
       "      <th>Company_HOEP</th>\n",
       "    </tr>\n",
       "  </thead>\n",
       "  <tbody>\n",
       "    <tr>\n",
       "      <th>0</th>\n",
       "      <td>0</td>\n",
       "      <td>2018-01-01</td>\n",
       "      <td>1</td>\n",
       "      <td>18974</td>\n",
       "      <td>16627</td>\n",
       "      <td>51.29</td>\n",
       "      <td>3</td>\n",
       "      <td>1583</td>\n",
       "      <td>4152</td>\n",
       "      <td>11671</td>\n",
       "      <td>0</td>\n",
       "      <td>992</td>\n",
       "      <td>18401</td>\n",
       "      <td>310</td>\n",
       "    </tr>\n",
       "    <tr>\n",
       "      <th>1</th>\n",
       "      <td>1</td>\n",
       "      <td>2018-01-01</td>\n",
       "      <td>2</td>\n",
       "      <td>18447</td>\n",
       "      <td>16084</td>\n",
       "      <td>43.59</td>\n",
       "      <td>1</td>\n",
       "      <td>1192</td>\n",
       "      <td>4093</td>\n",
       "      <td>11672</td>\n",
       "      <td>0</td>\n",
       "      <td>1124</td>\n",
       "      <td>18082</td>\n",
       "      <td>27</td>\n",
       "    </tr>\n",
       "    <tr>\n",
       "      <th>2</th>\n",
       "      <td>2</td>\n",
       "      <td>2018-01-01</td>\n",
       "      <td>3</td>\n",
       "      <td>18453</td>\n",
       "      <td>15866</td>\n",
       "      <td>93.60</td>\n",
       "      <td>0</td>\n",
       "      <td>1040</td>\n",
       "      <td>4231</td>\n",
       "      <td>11672</td>\n",
       "      <td>0</td>\n",
       "      <td>1265</td>\n",
       "      <td>18208</td>\n",
       "      <td>87</td>\n",
       "    </tr>\n",
       "    <tr>\n",
       "      <th>3</th>\n",
       "      <td>3</td>\n",
       "      <td>2018-01-01</td>\n",
       "      <td>4</td>\n",
       "      <td>18662</td>\n",
       "      <td>15725</td>\n",
       "      <td>54.78</td>\n",
       "      <td>0</td>\n",
       "      <td>1041</td>\n",
       "      <td>3895</td>\n",
       "      <td>11669</td>\n",
       "      <td>0</td>\n",
       "      <td>1369</td>\n",
       "      <td>17974</td>\n",
       "      <td>65</td>\n",
       "    </tr>\n",
       "    <tr>\n",
       "      <th>4</th>\n",
       "      <td>4</td>\n",
       "      <td>2018-01-01</td>\n",
       "      <td>5</td>\n",
       "      <td>18060</td>\n",
       "      <td>15470</td>\n",
       "      <td>14.35</td>\n",
       "      <td>0</td>\n",
       "      <td>1004</td>\n",
       "      <td>3271</td>\n",
       "      <td>11674</td>\n",
       "      <td>0</td>\n",
       "      <td>1848</td>\n",
       "      <td>17797</td>\n",
       "      <td>194</td>\n",
       "    </tr>\n",
       "  </tbody>\n",
       "</table>\n",
       "</div>"
      ],
      "text/plain": [
       "   Unnamed: 0        Date  Hour  Market Demand  Ontario Demand   HOEP  \\\n",
       "0           0  2018-01-01     1          18974           16627  51.29   \n",
       "1           1  2018-01-01     2          18447           16084  43.59   \n",
       "2           2  2018-01-01     3          18453           15866  93.60   \n",
       "3           3  2018-01-01     4          18662           15725  54.78   \n",
       "4           4  2018-01-01     5          18060           15470  14.35   \n",
       "\n",
       "   BIOFUEL   GAS  HYDRO  NUCLEAR  SOLAR  WIND  TotalOutput  Company_HOEP  \n",
       "0        3  1583   4152    11671      0   992        18401           310  \n",
       "1        1  1192   4093    11672      0  1124        18082            27  \n",
       "2        0  1040   4231    11672      0  1265        18208            87  \n",
       "3        0  1041   3895    11669      0  1369        17974            65  \n",
       "4        0  1004   3271    11674      0  1848        17797           194  "
      ]
     },
     "execution_count": 76,
     "metadata": {},
     "output_type": "execute_result"
    }
   ],
   "source": [
    "df.head()"
   ]
  },
  {
   "cell_type": "code",
   "execution_count": 77,
   "metadata": {},
   "outputs": [],
   "source": [
    "data_X = df[['Ontario Demand', 'HOEP']]\n",
    "dataset = data_X.values\n",
    "dataset = dataset.astype('float32')"
   ]
  },
  {
   "cell_type": "code",
   "execution_count": 78,
   "metadata": {},
   "outputs": [
    {
     "data": {
      "text/html": [
       "<div>\n",
       "<style scoped>\n",
       "    .dataframe tbody tr th:only-of-type {\n",
       "        vertical-align: middle;\n",
       "    }\n",
       "\n",
       "    .dataframe tbody tr th {\n",
       "        vertical-align: top;\n",
       "    }\n",
       "\n",
       "    .dataframe thead th {\n",
       "        text-align: right;\n",
       "    }\n",
       "</style>\n",
       "<table border=\"1\" class=\"dataframe\">\n",
       "  <thead>\n",
       "    <tr style=\"text-align: right;\">\n",
       "      <th></th>\n",
       "      <th>Ontario Demand</th>\n",
       "      <th>HOEP</th>\n",
       "    </tr>\n",
       "  </thead>\n",
       "  <tbody>\n",
       "    <tr>\n",
       "      <th>0</th>\n",
       "      <td>16627</td>\n",
       "      <td>51.29</td>\n",
       "    </tr>\n",
       "    <tr>\n",
       "      <th>1</th>\n",
       "      <td>16084</td>\n",
       "      <td>43.59</td>\n",
       "    </tr>\n",
       "    <tr>\n",
       "      <th>2</th>\n",
       "      <td>15866</td>\n",
       "      <td>93.60</td>\n",
       "    </tr>\n",
       "    <tr>\n",
       "      <th>3</th>\n",
       "      <td>15725</td>\n",
       "      <td>54.78</td>\n",
       "    </tr>\n",
       "    <tr>\n",
       "      <th>4</th>\n",
       "      <td>15470</td>\n",
       "      <td>14.35</td>\n",
       "    </tr>\n",
       "  </tbody>\n",
       "</table>\n",
       "</div>"
      ],
      "text/plain": [
       "   Ontario Demand   HOEP\n",
       "0           16627  51.29\n",
       "1           16084  43.59\n",
       "2           15866  93.60\n",
       "3           15725  54.78\n",
       "4           15470  14.35"
      ]
     },
     "execution_count": 78,
     "metadata": {},
     "output_type": "execute_result"
    }
   ],
   "source": [
    "data_X.head()"
   ]
  },
  {
   "cell_type": "code",
   "execution_count": 79,
   "metadata": {},
   "outputs": [
    {
     "name": "stdout",
     "output_type": "stream",
     "text": [
      "(8760, 2)\n"
     ]
    }
   ],
   "source": [
    "# normalize the dataset\n",
    "scaler = MinMaxScaler()\n",
    "print(dataset.shape)\n",
    "dataset = scaler.fit_transform(dataset)"
   ]
  },
  {
   "cell_type": "code",
   "execution_count": 80,
   "metadata": {},
   "outputs": [
    {
     "name": "stdout",
     "output_type": "stream",
     "text": [
      "5869 2891\n"
     ]
    }
   ],
   "source": [
    "# split into train and test sets\n",
    "train_size = int(len(dataset) * 0.67)\n",
    "test_size = len(dataset) - train_size\n",
    "train, test = dataset[0:train_size,:], dataset[train_size:len(dataset),:]\n",
    "print(len(train), len(test))"
   ]
  },
  {
   "cell_type": "code",
   "execution_count": 81,
   "metadata": {},
   "outputs": [
    {
     "data": {
      "text/plain": [
       "(2891, 1)"
      ]
     },
     "execution_count": 81,
     "metadata": {},
     "output_type": "execute_result"
    }
   ],
   "source": [
    "test_hoep = test[:,1]\n",
    "test_hoep = test_hoep.reshape(test_hoep.shape[0],1)\n",
    "test_hoep.shape"
   ]
  },
  {
   "cell_type": "code",
   "execution_count": 82,
   "metadata": {},
   "outputs": [],
   "source": [
    "# convert an array of values into a dataset matrix\n",
    "def create_dataset(dataset, look_back=48):\n",
    "    dataX, dataY = [], []\n",
    "    for i in range(len(dataset)-look_back-1):\n",
    "        a = dataset[i:(i+look_back), :]\n",
    "        dataX.append(a)\n",
    "        dataY.append(dataset[i + look_back, 0])\n",
    "    return numpy.array(dataX), numpy.array(dataY)"
   ]
  },
  {
   "cell_type": "code",
   "execution_count": 83,
   "metadata": {},
   "outputs": [],
   "source": [
    "# reshape into X=t and Y=t+48\n",
    "look_back = 48\n",
    "trainX, trainY = create_dataset(train, look_back)\n",
    "testX, testY = create_dataset(test, look_back)"
   ]
  },
  {
   "cell_type": "code",
   "execution_count": 84,
   "metadata": {},
   "outputs": [
    {
     "data": {
      "text/plain": [
       "array([[[0.4792503 , 0.15047428],\n",
       "        [0.436491  , 0.12966517],\n",
       "        [0.4193244 , 0.26481634],\n",
       "        ...,\n",
       "        [0.6516261 , 0.12439531],\n",
       "        [0.57098985, 0.0335108 ],\n",
       "        [0.5024017 , 0.0921817 ]],\n",
       "\n",
       "       [[0.436491  , 0.12966517],\n",
       "        [0.4193244 , 0.26481634],\n",
       "        [0.40822113, 0.15990594],\n",
       "        ...,\n",
       "        [0.57098985, 0.0335108 ],\n",
       "        [0.5024017 , 0.0921817 ],\n",
       "        [0.45168912, 0.01810664]],\n",
       "\n",
       "       [[0.4193244 , 0.26481634],\n",
       "        [0.40822113, 0.15990594],\n",
       "        [0.3881408 , 0.05064454],\n",
       "        ...,\n",
       "        [0.5024017 , 0.0921817 ],\n",
       "        [0.45168912, 0.01810664],\n",
       "        [0.41688323, 0.06437316]],\n",
       "\n",
       "       ...,\n",
       "\n",
       "       [[0.57098985, 0.0335108 ],\n",
       "        [0.5024017 , 0.0921817 ],\n",
       "        [0.45168912, 0.01810664],\n",
       "        ...,\n",
       "        [0.74328685, 0.17106721],\n",
       "        [0.7335223 , 0.17082398],\n",
       "        [0.7195054 , 0.1766073 ]],\n",
       "\n",
       "       [[0.5024017 , 0.0921817 ],\n",
       "        [0.45168912, 0.01810664],\n",
       "        [0.41688323, 0.06437316],\n",
       "        ...,\n",
       "        [0.7335223 , 0.17082398],\n",
       "        [0.7195054 , 0.1766073 ],\n",
       "        [0.6573746 , 0.21106395]],\n",
       "\n",
       "       [[0.45168912, 0.01810664],\n",
       "        [0.41688323, 0.06437316],\n",
       "        [0.39885032, 0.0118639 ],\n",
       "        ...,\n",
       "        [0.7195054 , 0.1766073 ],\n",
       "        [0.6573746 , 0.21106395],\n",
       "        [0.58264434, 0.2989487 ]]], dtype=float32)"
      ]
     },
     "execution_count": 84,
     "metadata": {},
     "output_type": "execute_result"
    }
   ],
   "source": [
    "trainX[0:49]"
   ]
  },
  {
   "cell_type": "code",
   "execution_count": 85,
   "metadata": {},
   "outputs": [
    {
     "data": {
      "text/plain": [
       "(5820,)"
      ]
     },
     "execution_count": 85,
     "metadata": {},
     "output_type": "execute_result"
    }
   ],
   "source": [
    "trainY.shape"
   ]
  },
  {
   "cell_type": "code",
   "execution_count": 86,
   "metadata": {},
   "outputs": [
    {
     "data": {
      "text/plain": [
       "(5820, 48, 2)"
      ]
     },
     "execution_count": 86,
     "metadata": {},
     "output_type": "execute_result"
    }
   ],
   "source": [
    "trainX.shape"
   ]
  },
  {
   "cell_type": "code",
   "execution_count": 15,
   "metadata": {
    "scrolled": true
   },
   "outputs": [
    {
     "name": "stderr",
     "output_type": "stream",
     "text": [
      "WARNING: Logging before flag parsing goes to stderr.\n",
      "W1118 23:55:37.335019 140137027598144 deprecation_wrapper.py:119] From /home/sashank/.local/lib/python3.6/site-packages/keras/backend/tensorflow_backend.py:74: The name tf.get_default_graph is deprecated. Please use tf.compat.v1.get_default_graph instead.\n",
      "\n",
      "W1118 23:55:37.592062 140137027598144 deprecation_wrapper.py:119] From /home/sashank/.local/lib/python3.6/site-packages/keras/backend/tensorflow_backend.py:517: The name tf.placeholder is deprecated. Please use tf.compat.v1.placeholder instead.\n",
      "\n",
      "W1118 23:55:37.666597 140137027598144 deprecation_wrapper.py:119] From /home/sashank/.local/lib/python3.6/site-packages/keras/backend/tensorflow_backend.py:4138: The name tf.random_uniform is deprecated. Please use tf.random.uniform instead.\n",
      "\n",
      "W1118 23:55:38.210877 140137027598144 deprecation_wrapper.py:119] From /home/sashank/.local/lib/python3.6/site-packages/keras/optimizers.py:790: The name tf.train.Optimizer is deprecated. Please use tf.compat.v1.train.Optimizer instead.\n",
      "\n"
     ]
    },
    {
     "name": "stdout",
     "output_type": "stream",
     "text": [
      "_________________________________________________________________\n",
      "Layer (type)                 Output Shape              Param #   \n",
      "=================================================================\n",
      "lstm_1 (LSTM)                (None, 48, 30)            3960      \n",
      "_________________________________________________________________\n",
      "lstm_2 (LSTM)                (None, 30)                7320      \n",
      "_________________________________________________________________\n",
      "dense_1 (Dense)              (None, 1)                 31        \n",
      "=================================================================\n",
      "Total params: 11,311\n",
      "Trainable params: 11,311\n",
      "Non-trainable params: 0\n",
      "_________________________________________________________________\n"
     ]
    },
    {
     "name": "stderr",
     "output_type": "stream",
     "text": [
      "W1118 23:55:38.643429 140137027598144 deprecation.py:323] From /home/sashank/.local/lib/python3.6/site-packages/tensorflow/python/ops/math_grad.py:1250: add_dispatch_support.<locals>.wrapper (from tensorflow.python.ops.array_ops) is deprecated and will be removed in a future version.\n",
      "Instructions for updating:\n",
      "Use tf.where in 2.0, which has the same broadcast rule as np.where\n",
      "W1118 23:55:39.921372 140137027598144 deprecation_wrapper.py:119] From /home/sashank/.local/lib/python3.6/site-packages/keras/backend/tensorflow_backend.py:986: The name tf.assign_add is deprecated. Please use tf.compat.v1.assign_add instead.\n",
      "\n",
      "W1118 23:55:40.121709 140137027598144 deprecation_wrapper.py:119] From /home/sashank/.local/lib/python3.6/site-packages/keras/backend/tensorflow_backend.py:973: The name tf.assign is deprecated. Please use tf.compat.v1.assign instead.\n",
      "\n"
     ]
    },
    {
     "name": "stdout",
     "output_type": "stream",
     "text": [
      "Epoch 1/20\n",
      " - 14s - loss: 0.0272\n",
      "Epoch 2/20\n",
      " - 9s - loss: 0.0071\n",
      "Epoch 3/20\n",
      " - 10s - loss: 0.0041\n",
      "Epoch 4/20\n",
      " - 11s - loss: 0.0032\n",
      "Epoch 5/20\n",
      " - 13s - loss: 0.0025\n",
      "Epoch 6/20\n",
      " - 12s - loss: 0.0018\n",
      "Epoch 7/20\n",
      " - 10s - loss: 0.0014\n",
      "Epoch 8/20\n",
      " - 10s - loss: 0.0011\n",
      "Epoch 9/20\n",
      " - 11s - loss: 9.7230e-04\n",
      "Epoch 10/20\n",
      " - 13s - loss: 8.5378e-04\n",
      "Epoch 11/20\n",
      " - 12s - loss: 7.2833e-04\n",
      "Epoch 12/20\n",
      " - 11s - loss: 6.2462e-04\n",
      "Epoch 13/20\n",
      " - 11s - loss: 6.5140e-04\n",
      "Epoch 14/20\n",
      " - 12s - loss: 5.6670e-04\n",
      "Epoch 15/20\n",
      " - 13s - loss: 5.5542e-04\n",
      "Epoch 16/20\n",
      " - 18s - loss: 5.1028e-04\n",
      "Epoch 17/20\n",
      " - 19s - loss: 5.3412e-04\n",
      "Epoch 18/20\n",
      " - 19s - loss: 4.7348e-04\n",
      "Epoch 19/20\n",
      " - 11s - loss: 4.8804e-04\n",
      "Epoch 20/20\n",
      " - 12s - loss: 5.0186e-04\n"
     ]
    },
    {
     "data": {
      "text/plain": [
       "<keras.callbacks.History at 0x7f739ffd99b0>"
      ]
     },
     "execution_count": 15,
     "metadata": {},
     "output_type": "execute_result"
    }
   ],
   "source": [
    "# create and fit the LSTM network\n",
    "model = Sequential()\n",
    "model.add(LSTM(30, return_sequences=True, input_shape=(look_back, 2)))\n",
    "model.add(LSTM(30))\n",
    "model.add(Dense(1))\n",
    "model.summary()\n",
    "model.compile(loss='mean_squared_error', optimizer='adam')\n",
    "model.fit(trainX, trainY, epochs=20, batch_size=32, verbose=2)"
   ]
  },
  {
   "cell_type": "code",
   "execution_count": 100,
   "metadata": {},
   "outputs": [],
   "source": [
    "predicted_value= model.predict(testX)"
   ]
  },
  {
   "cell_type": "code",
   "execution_count": 101,
   "metadata": {},
   "outputs": [
    {
     "data": {
      "text/plain": [
       "0.0007409684"
      ]
     },
     "execution_count": 101,
     "metadata": {},
     "output_type": "execute_result"
    }
   ],
   "source": [
    "from sklearn.metrics import mean_squared_error\n",
    "mean_squared_error(testY,predicted_value)"
   ]
  },
  {
   "cell_type": "code",
   "execution_count": 89,
   "metadata": {},
   "outputs": [
    {
     "data": {
      "text/plain": [
       "(2842, 1)"
      ]
     },
     "execution_count": 89,
     "metadata": {},
     "output_type": "execute_result"
    }
   ],
   "source": [
    "predicted_value.shape"
   ]
  },
  {
   "cell_type": "code",
   "execution_count": 90,
   "metadata": {},
   "outputs": [
    {
     "data": {
      "text/plain": [
       "(2842,)"
      ]
     },
     "execution_count": 90,
     "metadata": {},
     "output_type": "execute_result"
    }
   ],
   "source": [
    "testY.shape"
   ]
  },
  {
   "cell_type": "code",
   "execution_count": 98,
   "metadata": {},
   "outputs": [],
   "source": [
    "import pickle\n",
    "filename = 'finalized_model_2.sav'\n",
    "pickle.dump(model, open(filename, 'wb'))"
   ]
  },
  {
   "cell_type": "code",
   "execution_count": 102,
   "metadata": {},
   "outputs": [
    {
     "data": {
      "image/png": "[encoded data removed]",
      "text/plain": [
       "<Figure size 432x288 with 1 Axes>"
      ]
     },
     "metadata": {
      "needs_background": "light"
     },
     "output_type": "display_data"
    }
   ],
   "source": [
    "plt.plot(predicted_value, color= 'red')\n",
    "plt.plot(testY, color='green',alpha=0.7)\n",
    "plt.title(\"Price\")\n",
    "plt.xlabel(\"Time (latest-> oldest)\")\n",
    "plt.ylabel(\"Electricity Price\")\n",
    "plt.show()"
   ]
  },
  {
   "cell_type": "code",
   "execution_count": 103,
   "metadata": {},
   "outputs": [],
   "source": [
    "predicted_value = numpy.c_[predicted_value,test_hoep[look_back+1:,:]]"
   ]
  },
  {
   "cell_type": "code",
   "execution_count": 104,
   "metadata": {},
   "outputs": [
    {
     "name": "stdout",
     "output_type": "stream",
     "text": [
      "(2842, 2)\n",
      "(2842, 48, 2)\n"
     ]
    }
   ],
   "source": [
    "print(predicted_value.shape)\n",
    "print(testX.shape)"
   ]
  },
  {
   "cell_type": "code",
   "execution_count": 105,
   "metadata": {},
   "outputs": [],
   "source": [
    "inverse_scaled_output = scaler.inverse_transform(predicted_value)\n",
    "#inverse_scaled_actual = scaler.inverse_transform(testX)"
   ]
  },
  {
   "cell_type": "code",
   "execution_count": 44,
   "metadata": {},
   "outputs": [
    {
     "data": {
      "text/plain": [
       "(2842, 2)"
      ]
     },
     "execution_count": 44,
     "metadata": {},
     "output_type": "execute_result"
    }
   ],
   "source": [
    "testX[:,1].shape"
   ]
  },
  {
   "cell_type": "code",
   "execution_count": 45,
   "metadata": {},
   "outputs": [
    {
     "data": {
      "text/plain": [
       "(2842, 3)"
      ]
     },
     "execution_count": 45,
     "metadata": {},
     "output_type": "execute_result"
    }
   ],
   "source": [
    "predicted_value.shape"
   ]
  },
  {
   "cell_type": "code",
   "execution_count": 106,
   "metadata": {},
   "outputs": [
    {
     "data": {
      "text/plain": [
       "array([[20910.863  ,   136.95   ],\n",
       "       [21135.014  ,   100.30999],\n",
       "       [21743.996  ,    70.95   ],\n",
       "       ...,\n",
       "       [16361.07   ,     5.81   ],\n",
       "       [15381.086  ,     2.87   ],\n",
       "       [14462.165  ,     0.     ]], dtype=float32)"
      ]
     },
     "execution_count": 106,
     "metadata": {},
     "output_type": "execute_result"
    }
   ],
   "source": [
    "numpy.set_printoptions(suppress=True)\n",
    "inverse_scaled_output"
   ]
  },
  {
   "cell_type": "code",
   "execution_count": 107,
   "metadata": {},
   "outputs": [],
   "source": [
    "numpy.savetxt(\"values.csv\", inverse_scaled_output, delimiter=\",\")"
   ]
  }
 ],
 "metadata": {
  "kernelspec": {
   "display_name": "Python 3",
   "language": "python",
   "name": "python3"
  },
  "language_info": {
   "codemirror_mode": {
    "name": "ipython",
    "version": 3
   },
   "file_extension": ".py",
   "mimetype": "text/x-python",
   "name": "python",
   "nbconvert_exporter": "python",
   "pygments_lexer": "ipython3",
   "version": "3.6.8"
  }
 },
 "nbformat": 4,
 "nbformat_minor": 2
}
