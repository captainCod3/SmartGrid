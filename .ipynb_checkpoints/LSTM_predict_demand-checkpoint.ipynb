{
 "cells": [
  {
   "cell_type": "code",
   "execution_count": 1,
   "metadata": {},
   "outputs": [
    {
     "name": "stderr",
     "output_type": "stream",
     "text": [
      "/home/gaddafi/anaconda3/lib/python3.6/site-packages/h5py/__init__.py:36: FutureWarning: Conversion of the second argument of issubdtype from `float` to `np.floating` is deprecated. In future, it will be treated as `np.float64 == np.dtype(float).type`.\n",
      "  from ._conv import register_converters as _register_converters\n",
      "Using TensorFlow backend.\n"
     ]
    }
   ],
   "source": [
    "import pandas as pd\n",
    "import numpy\n",
    "import matplotlib.pyplot as plt\n",
    "import pandas\n",
    "import math\n",
    "from keras.models import Sequential\n",
    "from keras.layers import Dense\n",
    "from keras.layers import LSTM\n",
    "from sklearn.preprocessing import MinMaxScaler\n",
    "from sklearn.metrics import mean_squared_error"
   ]
  },
  {
   "cell_type": "code",
   "execution_count": 2,
   "metadata": {},
   "outputs": [],
   "source": [
    "import os\n",
    "PATH = os.getcwd()\n",
    "numpy.random.seed(7)"
   ]
  },
  {
   "cell_type": "code",
   "execution_count": 3,
   "metadata": {},
   "outputs": [
    {
     "data": {
      "text/plain": [
       "'/home/gaddafi/SmartGrid'"
      ]
     },
     "execution_count": 3,
     "metadata": {},
     "output_type": "execute_result"
    }
   ],
   "source": [
    "PATH"
   ]
  },
  {
   "cell_type": "code",
   "execution_count": 4,
   "metadata": {},
   "outputs": [],
   "source": [
    "df = pd.read_excel(PATH+'/data/final_data.xlsx')"
   ]
  },
  {
   "cell_type": "code",
   "execution_count": 5,
   "metadata": {},
   "outputs": [
    {
     "data": {
      "text/html": [
       "<div>\n",
       "<style scoped>\n",
       "    .dataframe tbody tr th:only-of-type {\n",
       "        vertical-align: middle;\n",
       "    }\n",
       "\n",
       "    .dataframe tbody tr th {\n",
       "        vertical-align: top;\n",
       "    }\n",
       "\n",
       "    .dataframe thead th {\n",
       "        text-align: right;\n",
       "    }\n",
       "</style>\n",
       "<table border=\"1\" class=\"dataframe\">\n",
       "  <thead>\n",
       "    <tr style=\"text-align: right;\">\n",
       "      <th></th>\n",
       "      <th>Date</th>\n",
       "      <th>Hour</th>\n",
       "      <th>Market Demand</th>\n",
       "      <th>Ontario Demand</th>\n",
       "      <th>HOEP</th>\n",
       "      <th>BIOFUEL</th>\n",
       "      <th>GAS</th>\n",
       "      <th>HYDRO</th>\n",
       "      <th>NUCLEAR</th>\n",
       "      <th>SOLAR</th>\n",
       "      <th>WIND</th>\n",
       "      <th>TotalOutput</th>\n",
       "      <th>Company_HOEP</th>\n",
       "    </tr>\n",
       "  </thead>\n",
       "  <tbody>\n",
       "    <tr>\n",
       "      <th>0</th>\n",
       "      <td>2018-01-01</td>\n",
       "      <td>1</td>\n",
       "      <td>18974</td>\n",
       "      <td>16627</td>\n",
       "      <td>51.29</td>\n",
       "      <td>3</td>\n",
       "      <td>1583</td>\n",
       "      <td>4152</td>\n",
       "      <td>11671</td>\n",
       "      <td>0</td>\n",
       "      <td>992</td>\n",
       "      <td>18401</td>\n",
       "      <td>310</td>\n",
       "    </tr>\n",
       "    <tr>\n",
       "      <th>1</th>\n",
       "      <td>2018-01-01</td>\n",
       "      <td>2</td>\n",
       "      <td>18447</td>\n",
       "      <td>16084</td>\n",
       "      <td>43.59</td>\n",
       "      <td>1</td>\n",
       "      <td>1192</td>\n",
       "      <td>4093</td>\n",
       "      <td>11672</td>\n",
       "      <td>0</td>\n",
       "      <td>1124</td>\n",
       "      <td>18082</td>\n",
       "      <td>27</td>\n",
       "    </tr>\n",
       "    <tr>\n",
       "      <th>2</th>\n",
       "      <td>2018-01-01</td>\n",
       "      <td>3</td>\n",
       "      <td>18453</td>\n",
       "      <td>15866</td>\n",
       "      <td>93.60</td>\n",
       "      <td>0</td>\n",
       "      <td>1040</td>\n",
       "      <td>4231</td>\n",
       "      <td>11672</td>\n",
       "      <td>0</td>\n",
       "      <td>1265</td>\n",
       "      <td>18208</td>\n",
       "      <td>87</td>\n",
       "    </tr>\n",
       "    <tr>\n",
       "      <th>3</th>\n",
       "      <td>2018-01-01</td>\n",
       "      <td>4</td>\n",
       "      <td>18662</td>\n",
       "      <td>15725</td>\n",
       "      <td>54.78</td>\n",
       "      <td>0</td>\n",
       "      <td>1041</td>\n",
       "      <td>3895</td>\n",
       "      <td>11669</td>\n",
       "      <td>0</td>\n",
       "      <td>1369</td>\n",
       "      <td>17974</td>\n",
       "      <td>65</td>\n",
       "    </tr>\n",
       "    <tr>\n",
       "      <th>4</th>\n",
       "      <td>2018-01-01</td>\n",
       "      <td>5</td>\n",
       "      <td>18060</td>\n",
       "      <td>15470</td>\n",
       "      <td>14.35</td>\n",
       "      <td>0</td>\n",
       "      <td>1004</td>\n",
       "      <td>3271</td>\n",
       "      <td>11674</td>\n",
       "      <td>0</td>\n",
       "      <td>1848</td>\n",
       "      <td>17797</td>\n",
       "      <td>194</td>\n",
       "    </tr>\n",
       "  </tbody>\n",
       "</table>\n",
       "</div>"
      ],
      "text/plain": [
       "         Date  Hour  Market Demand  Ontario Demand   HOEP  BIOFUEL   GAS  \\\n",
       "0  2018-01-01     1          18974           16627  51.29        3  1583   \n",
       "1  2018-01-01     2          18447           16084  43.59        1  1192   \n",
       "2  2018-01-01     3          18453           15866  93.60        0  1040   \n",
       "3  2018-01-01     4          18662           15725  54.78        0  1041   \n",
       "4  2018-01-01     5          18060           15470  14.35        0  1004   \n",
       "\n",
       "   HYDRO  NUCLEAR  SOLAR  WIND  TotalOutput  Company_HOEP  \n",
       "0   4152    11671      0   992        18401           310  \n",
       "1   4093    11672      0  1124        18082            27  \n",
       "2   4231    11672      0  1265        18208            87  \n",
       "3   3895    11669      0  1369        17974            65  \n",
       "4   3271    11674      0  1848        17797           194  "
      ]
     },
     "execution_count": 5,
     "metadata": {},
     "output_type": "execute_result"
    }
   ],
   "source": [
    "df.head()"
   ]
  },
  {
   "cell_type": "code",
   "execution_count": 6,
   "metadata": {},
   "outputs": [],
   "source": [
    "data_X = df[['Ontario Demand', 'HOEP']]\n",
    "dataset = data_X.values\n",
    "dataset = dataset.astype('float32')"
   ]
  },
  {
   "cell_type": "code",
   "execution_count": 7,
   "metadata": {},
   "outputs": [
    {
     "data": {
      "text/html": [
       "<div>\n",
       "<style scoped>\n",
       "    .dataframe tbody tr th:only-of-type {\n",
       "        vertical-align: middle;\n",
       "    }\n",
       "\n",
       "    .dataframe tbody tr th {\n",
       "        vertical-align: top;\n",
       "    }\n",
       "\n",
       "    .dataframe thead th {\n",
       "        text-align: right;\n",
       "    }\n",
       "</style>\n",
       "<table border=\"1\" class=\"dataframe\">\n",
       "  <thead>\n",
       "    <tr style=\"text-align: right;\">\n",
       "      <th></th>\n",
       "      <th>Ontario Demand</th>\n",
       "      <th>HOEP</th>\n",
       "    </tr>\n",
       "  </thead>\n",
       "  <tbody>\n",
       "    <tr>\n",
       "      <th>0</th>\n",
       "      <td>16627</td>\n",
       "      <td>51.29</td>\n",
       "    </tr>\n",
       "    <tr>\n",
       "      <th>1</th>\n",
       "      <td>16084</td>\n",
       "      <td>43.59</td>\n",
       "    </tr>\n",
       "    <tr>\n",
       "      <th>2</th>\n",
       "      <td>15866</td>\n",
       "      <td>93.60</td>\n",
       "    </tr>\n",
       "    <tr>\n",
       "      <th>3</th>\n",
       "      <td>15725</td>\n",
       "      <td>54.78</td>\n",
       "    </tr>\n",
       "    <tr>\n",
       "      <th>4</th>\n",
       "      <td>15470</td>\n",
       "      <td>14.35</td>\n",
       "    </tr>\n",
       "  </tbody>\n",
       "</table>\n",
       "</div>"
      ],
      "text/plain": [
       "   Ontario Demand   HOEP\n",
       "0           16627  51.29\n",
       "1           16084  43.59\n",
       "2           15866  93.60\n",
       "3           15725  54.78\n",
       "4           15470  14.35"
      ]
     },
     "execution_count": 7,
     "metadata": {},
     "output_type": "execute_result"
    }
   ],
   "source": [
    "data_X.head()"
   ]
  },
  {
   "cell_type": "code",
   "execution_count": 8,
   "metadata": {},
   "outputs": [],
   "source": [
    "# normalize the dataset\n",
    "scaler = MinMaxScaler()\n",
    "dataset = scaler.fit_transform(dataset)"
   ]
  },
  {
   "cell_type": "code",
   "execution_count": 9,
   "metadata": {},
   "outputs": [
    {
     "name": "stdout",
     "output_type": "stream",
     "text": [
      "5869 2891\n"
     ]
    }
   ],
   "source": [
    "# split into train and test sets\n",
    "train_size = int(len(dataset) * 0.67)\n",
    "test_size = len(dataset) - train_size\n",
    "train, test = dataset[0:train_size,:], dataset[train_size:len(dataset),:]\n",
    "print(len(train), len(test))"
   ]
  },
  {
   "cell_type": "code",
   "execution_count": 10,
   "metadata": {},
   "outputs": [],
   "source": [
    "# convert an array of values into a dataset matrix\n",
    "def create_dataset(dataset, look_back=48):\n",
    "    dataX, dataY = [], []\n",
    "    for i in range(len(dataset)-look_back-1):\n",
    "        a = dataset[i:(i+look_back), :]\n",
    "        dataX.append(a)\n",
    "        dataY.append(dataset[i + look_back, 0])\n",
    "    return numpy.array(dataX), numpy.array(dataY)"
   ]
  },
  {
   "cell_type": "code",
   "execution_count": 11,
   "metadata": {},
   "outputs": [],
   "source": [
    "# reshape into X=t and Y=t+48\n",
    "look_back = 48\n",
    "trainX, trainY = create_dataset(train, look_back)\n",
    "testX, testY = create_dataset(test, look_back)"
   ]
  },
  {
   "cell_type": "code",
   "execution_count": 12,
   "metadata": {},
   "outputs": [
    {
     "data": {
      "text/plain": [
       "array([[[0.4792503 , 0.15047428],\n",
       "        [0.436491  , 0.12966517],\n",
       "        [0.4193244 , 0.26481634],\n",
       "        ...,\n",
       "        [0.6516261 , 0.12439531],\n",
       "        [0.57098985, 0.0335108 ],\n",
       "        [0.5024017 , 0.0921817 ]],\n",
       "\n",
       "       [[0.436491  , 0.12966517],\n",
       "        [0.4193244 , 0.26481634],\n",
       "        [0.40822113, 0.15990594],\n",
       "        ...,\n",
       "        [0.57098985, 0.0335108 ],\n",
       "        [0.5024017 , 0.0921817 ],\n",
       "        [0.45168912, 0.01810664]],\n",
       "\n",
       "       [[0.4193244 , 0.26481634],\n",
       "        [0.40822113, 0.15990594],\n",
       "        [0.3881408 , 0.05064454],\n",
       "        ...,\n",
       "        [0.5024017 , 0.0921817 ],\n",
       "        [0.45168912, 0.01810664],\n",
       "        [0.41688323, 0.06437316]],\n",
       "\n",
       "       ...,\n",
       "\n",
       "       [[0.57098985, 0.0335108 ],\n",
       "        [0.5024017 , 0.0921817 ],\n",
       "        [0.45168912, 0.01810664],\n",
       "        ...,\n",
       "        [0.74328685, 0.17106721],\n",
       "        [0.7335223 , 0.17082398],\n",
       "        [0.7195054 , 0.1766073 ]],\n",
       "\n",
       "       [[0.5024017 , 0.0921817 ],\n",
       "        [0.45168912, 0.01810664],\n",
       "        [0.41688323, 0.06437316],\n",
       "        ...,\n",
       "        [0.7335223 , 0.17082398],\n",
       "        [0.7195054 , 0.1766073 ],\n",
       "        [0.6573746 , 0.21106395]],\n",
       "\n",
       "       [[0.45168912, 0.01810664],\n",
       "        [0.41688323, 0.06437316],\n",
       "        [0.39885032, 0.0118639 ],\n",
       "        ...,\n",
       "        [0.7195054 , 0.1766073 ],\n",
       "        [0.6573746 , 0.21106395],\n",
       "        [0.58264434, 0.2989487 ]]], dtype=float32)"
      ]
     },
     "execution_count": 12,
     "metadata": {},
     "output_type": "execute_result"
    }
   ],
   "source": [
    "trainX[0:49]"
   ]
  },
  {
   "cell_type": "code",
   "execution_count": 13,
   "metadata": {},
   "outputs": [
    {
     "data": {
      "text/plain": [
       "(5820,)"
      ]
     },
     "execution_count": 13,
     "metadata": {},
     "output_type": "execute_result"
    }
   ],
   "source": [
    "trainY.shape"
   ]
  },
  {
   "cell_type": "code",
   "execution_count": 14,
   "metadata": {},
   "outputs": [
    {
     "data": {
      "text/plain": [
       "(5820, 48, 2)"
      ]
     },
     "execution_count": 14,
     "metadata": {},
     "output_type": "execute_result"
    }
   ],
   "source": [
    "trainX.shape"
   ]
  },
  {
   "cell_type": "code",
   "execution_count": 19,
   "metadata": {
    "scrolled": true
   },
   "outputs": [
    {
     "name": "stdout",
     "output_type": "stream",
     "text": [
      "_________________________________________________________________\n",
      "Layer (type)                 Output Shape              Param #   \n",
      "=================================================================\n",
      "lstm_9 (LSTM)                (None, 48, 30)            3960      \n",
      "_________________________________________________________________\n",
      "lstm_10 (LSTM)               (None, 30)                7320      \n",
      "_________________________________________________________________\n",
      "dense_5 (Dense)              (None, 1)                 31        \n",
      "=================================================================\n",
      "Total params: 11,311\n",
      "Trainable params: 11,311\n",
      "Non-trainable params: 0\n",
      "_________________________________________________________________\n",
      "Epoch 1/20\n",
      " - 7s - loss: 0.0254\n",
      "Epoch 2/20\n",
      " - 6s - loss: 0.0069\n",
      "Epoch 3/20\n",
      " - 6s - loss: 0.0041\n",
      "Epoch 4/20\n",
      " - 6s - loss: 0.0030\n",
      "Epoch 5/20\n",
      " - 6s - loss: 0.0023\n",
      "Epoch 6/20\n",
      " - 6s - loss: 0.0015\n",
      "Epoch 7/20\n",
      " - 6s - loss: 0.0011\n",
      "Epoch 8/20\n",
      " - 6s - loss: 9.9473e-04\n",
      "Epoch 9/20\n",
      " - 6s - loss: 8.1806e-04\n",
      "Epoch 10/20\n",
      " - 6s - loss: 7.3356e-04\n",
      "Epoch 11/20\n",
      " - 6s - loss: 6.7503e-04\n",
      "Epoch 12/20\n",
      " - 6s - loss: 6.3018e-04\n",
      "Epoch 13/20\n",
      " - 6s - loss: 6.1760e-04\n",
      "Epoch 14/20\n",
      " - 6s - loss: 5.3511e-04\n",
      "Epoch 15/20\n",
      " - 6s - loss: 5.1466e-04\n",
      "Epoch 16/20\n",
      " - 7s - loss: 4.9771e-04\n",
      "Epoch 17/20\n",
      " - 9s - loss: 4.8374e-04\n",
      "Epoch 18/20\n",
      " - 8s - loss: 4.7381e-04\n",
      "Epoch 19/20\n",
      " - 11s - loss: 4.5597e-04\n",
      "Epoch 20/20\n",
      " - 8s - loss: 4.4432e-04\n"
     ]
    },
    {
     "data": {
      "text/plain": [
       "<keras.callbacks.History at 0x7fc68590f7b8>"
      ]
     },
     "execution_count": 19,
     "metadata": {},
     "output_type": "execute_result"
    }
   ],
   "source": [
    "# create and fit the LSTM network\n",
    "model = Sequential()\n",
    "model.add(LSTM(30, return_sequences=True, input_shape=(look_back, 2)))\n",
    "model.add(LSTM(30))\n",
    "model.add(Dense(1))\n",
    "model.summary()\n",
    "model.compile(loss='mean_squared_error', optimizer='adam')\n",
    "model.fit(trainX, trainY, epochs=20, batch_size=32, verbose=2)"
   ]
  },
  {
   "cell_type": "code",
   "execution_count": 42,
   "metadata": {},
   "outputs": [],
   "source": [
    "predicted_value= model.predict(testX)"
   ]
  },
  {
   "cell_type": "code",
   "execution_count": 26,
   "metadata": {},
   "outputs": [
    {
     "data": {
      "text/plain": [
       "0.0006306231"
      ]
     },
     "execution_count": 26,
     "metadata": {},
     "output_type": "execute_result"
    }
   ],
   "source": [
    "from sklearn.metrics import mean_squared_error\n",
    "mean_squared_error(testY,predicted_value)"
   ]
  },
  {
   "cell_type": "code",
   "execution_count": 23,
   "metadata": {},
   "outputs": [
    {
     "data": {
      "text/plain": [
       "(2842, 1)"
      ]
     },
     "execution_count": 23,
     "metadata": {},
     "output_type": "execute_result"
    }
   ],
   "source": [
    "predicted_value.shape"
   ]
  },
  {
   "cell_type": "code",
   "execution_count": 25,
   "metadata": {},
   "outputs": [
    {
     "data": {
      "text/plain": [
       "(2842,)"
      ]
     },
     "execution_count": 25,
     "metadata": {},
     "output_type": "execute_result"
    }
   ],
   "source": [
    "testY.shape"
   ]
  },
  {
   "cell_type": "code",
   "execution_count": 27,
   "metadata": {},
   "outputs": [],
   "source": [
    "import pickle\n",
    "filename = 'finalized_model.sav'\n",
    "pickle.dump(model, open(filename, 'wb'))"
   ]
  },
  {
   "cell_type": "code",
   "execution_count": 33,
   "metadata": {},
   "outputs": [
    {
     "data": {
      "image/png": "[encoded data removed]",
      "text/plain": [
       "<Figure size 432x288 with 1 Axes>"
      ]
     },
     "metadata": {},
     "output_type": "display_data"
    }
   ],
   "source": [
    "plt.plot(predicted_value, color= 'red')\n",
    "plt.plot(testY, color='green',alpha=0.7)\n",
    "plt.title(\"Price\")\n",
    "plt.xlabel(\"Time (latest-> oldest)\")\n",
    "plt.ylabel(\"Electricity Price\")\n",
    "plt.show()"
   ]
  },
  {
   "cell_type": "code",
   "execution_count": 43,
   "metadata": {},
   "outputs": [
    {
     "ename": "ValueError",
     "evalue": "operands could not be broadcast together with shapes (2842,3) (2,) (2842,3) ",
     "output_type": "error",
     "traceback": [
      "\u001b[0;31m---------------------------------------------------------------------------\u001b[0m",
      "\u001b[0;31mValueError\u001b[0m                                Traceback (most recent call last)",
      "\u001b[0;32m<ipython-input-43-01d537da8f2d>\u001b[0m in \u001b[0;36m<module>\u001b[0;34m()\u001b[0m\n\u001b[1;32m      1\u001b[0m \u001b[0mpredicted_value\u001b[0m \u001b[0;34m=\u001b[0m \u001b[0mnumpy\u001b[0m\u001b[0;34m.\u001b[0m\u001b[0mc_\u001b[0m\u001b[0;34m[\u001b[0m\u001b[0mpredicted_value\u001b[0m\u001b[0;34m,\u001b[0m\u001b[0mtestX\u001b[0m\u001b[0;34m[\u001b[0m\u001b[0;34m:\u001b[0m\u001b[0;34m,\u001b[0m\u001b[0;36m1\u001b[0m\u001b[0;34m]\u001b[0m\u001b[0;34m]\u001b[0m\u001b[0;34m\u001b[0m\u001b[0m\n\u001b[0;32m----> 2\u001b[0;31m \u001b[0minverse_scaled_output\u001b[0m \u001b[0;34m=\u001b[0m \u001b[0mscaler\u001b[0m\u001b[0;34m.\u001b[0m\u001b[0minverse_transform\u001b[0m\u001b[0;34m(\u001b[0m\u001b[0mpredicted_value\u001b[0m\u001b[0;34m[\u001b[0m\u001b[0;34m:\u001b[0m\u001b[0;34m,\u001b[0m\u001b[0;34m:\u001b[0m\u001b[0;34m]\u001b[0m\u001b[0;34m)\u001b[0m\u001b[0;34m\u001b[0m\u001b[0m\n\u001b[0m\u001b[1;32m      3\u001b[0m \u001b[0minverse_scaled_actual\u001b[0m \u001b[0;34m=\u001b[0m \u001b[0mscaler\u001b[0m\u001b[0;34m.\u001b[0m\u001b[0minverse_transform\u001b[0m\u001b[0;34m(\u001b[0m\u001b[0mtestX\u001b[0m\u001b[0;34m)\u001b[0m\u001b[0;34m\u001b[0m\u001b[0m\n",
      "\u001b[0;32m~/anaconda3/lib/python3.6/site-packages/sklearn/preprocessing/data.py\u001b[0m in \u001b[0;36minverse_transform\u001b[0;34m(self, X)\u001b[0m\n\u001b[1;32m    383\u001b[0m         \u001b[0mX\u001b[0m \u001b[0;34m=\u001b[0m \u001b[0mcheck_array\u001b[0m\u001b[0;34m(\u001b[0m\u001b[0mX\u001b[0m\u001b[0;34m,\u001b[0m \u001b[0mcopy\u001b[0m\u001b[0;34m=\u001b[0m\u001b[0mself\u001b[0m\u001b[0;34m.\u001b[0m\u001b[0mcopy\u001b[0m\u001b[0;34m,\u001b[0m \u001b[0mdtype\u001b[0m\u001b[0;34m=\u001b[0m\u001b[0mFLOAT_DTYPES\u001b[0m\u001b[0;34m)\u001b[0m\u001b[0;34m\u001b[0m\u001b[0m\n\u001b[1;32m    384\u001b[0m \u001b[0;34m\u001b[0m\u001b[0m\n\u001b[0;32m--> 385\u001b[0;31m         \u001b[0mX\u001b[0m \u001b[0;34m-=\u001b[0m \u001b[0mself\u001b[0m\u001b[0;34m.\u001b[0m\u001b[0mmin_\u001b[0m\u001b[0;34m\u001b[0m\u001b[0m\n\u001b[0m\u001b[1;32m    386\u001b[0m         \u001b[0mX\u001b[0m \u001b[0;34m/=\u001b[0m \u001b[0mself\u001b[0m\u001b[0;34m.\u001b[0m\u001b[0mscale_\u001b[0m\u001b[0;34m\u001b[0m\u001b[0m\n\u001b[1;32m    387\u001b[0m         \u001b[0;32mreturn\u001b[0m \u001b[0mX\u001b[0m\u001b[0;34m\u001b[0m\u001b[0m\n",
      "\u001b[0;31mValueError\u001b[0m: operands could not be broadcast together with shapes (2842,3) (2,) (2842,3) "
     ]
    }
   ],
   "source": [
    "predicted_value = numpy.c_[predicted_value,testX[:,1]]\n",
    "inverse_scaled_output = scaler.inverse_transform(predicted_value[:,:])\n",
    "inverse_scaled_actual = scaler.inverse_transform(testX)"
   ]
  },
  {
   "cell_type": "code",
   "execution_count": 44,
   "metadata": {},
   "outputs": [
    {
     "data": {
      "text/plain": [
       "(2842, 2)"
      ]
     },
     "execution_count": 44,
     "metadata": {},
     "output_type": "execute_result"
    }
   ],
   "source": [
    "testX[:,1].shape"
   ]
  },
  {
   "cell_type": "code",
   "execution_count": 45,
   "metadata": {},
   "outputs": [
    {
     "data": {
      "text/plain": [
       "(2842, 3)"
      ]
     },
     "execution_count": 45,
     "metadata": {},
     "output_type": "execute_result"
    }
   ],
   "source": [
    "predicted_value.shape"
   ]
  },
  {
   "cell_type": "code",
   "execution_count": null,
   "metadata": {},
   "outputs": [],
   "source": []
  }
 ],
 "metadata": {
  "kernelspec": {
   "display_name": "Python 3",
   "language": "python",
   "name": "python3"
  },
  "language_info": {
   "codemirror_mode": {
    "name": "ipython",
    "version": 3
   },
   "file_extension": ".py",
   "mimetype": "text/x-python",
   "name": "python",
   "nbconvert_exporter": "python",
   "pygments_lexer": "ipython3",
   "version": "3.6.5"
  }
 },
 "nbformat": 4,
 "nbformat_minor": 2
}
